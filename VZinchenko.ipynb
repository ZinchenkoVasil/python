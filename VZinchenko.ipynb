{
 "cells": [
  {
   "cell_type": "code",
   "execution_count": 327,
   "metadata": {},
   "outputs": [],
   "source": [
    "import numpy as np\n",
    "import pandas as pd\n",
    "from sklearn.linear_model import LinearRegression\n",
    "from sklearn.metrics import r2_score as r2\n",
    "from sklearn.metrics import mean_squared_error as mse"
   ]
  },
  {
   "cell_type": "code",
   "execution_count": 328,
   "metadata": {},
   "outputs": [],
   "source": [
    "from sklearn.model_selection import train_test_split"
   ]
  },
  {
   "cell_type": "code",
   "execution_count": 587,
   "metadata": {},
   "outputs": [],
   "source": [
    "data = pd.read_csv('input/train.csv')"
   ]
  },
  {
   "cell_type": "code",
   "execution_count": 588,
   "metadata": {},
   "outputs": [
    {
     "data": {
      "text/html": [
       "<div>\n",
       "<style scoped>\n",
       "    .dataframe tbody tr th:only-of-type {\n",
       "        vertical-align: middle;\n",
       "    }\n",
       "\n",
       "    .dataframe tbody tr th {\n",
       "        vertical-align: top;\n",
       "    }\n",
       "\n",
       "    .dataframe thead th {\n",
       "        text-align: right;\n",
       "    }\n",
       "</style>\n",
       "<table border=\"1\" class=\"dataframe\">\n",
       "  <thead>\n",
       "    <tr style=\"text-align: right;\">\n",
       "      <th></th>\n",
       "      <th>Id</th>\n",
       "      <th>DistrictId</th>\n",
       "      <th>Rooms</th>\n",
       "      <th>Square</th>\n",
       "      <th>LifeSquare</th>\n",
       "      <th>KitchenSquare</th>\n",
       "      <th>Floor</th>\n",
       "      <th>HouseFloor</th>\n",
       "      <th>HouseYear</th>\n",
       "      <th>Ecology_1</th>\n",
       "      <th>Ecology_2</th>\n",
       "      <th>Ecology_3</th>\n",
       "      <th>Social_1</th>\n",
       "      <th>Social_2</th>\n",
       "      <th>Social_3</th>\n",
       "      <th>Healthcare_1</th>\n",
       "      <th>Helthcare_2</th>\n",
       "      <th>Shops_1</th>\n",
       "      <th>Shops_2</th>\n",
       "      <th>Price</th>\n",
       "    </tr>\n",
       "  </thead>\n",
       "  <tbody>\n",
       "    <tr>\n",
       "      <th>0</th>\n",
       "      <td>14038</td>\n",
       "      <td>35</td>\n",
       "      <td>2.0</td>\n",
       "      <td>47.981561</td>\n",
       "      <td>29.442751</td>\n",
       "      <td>6.0</td>\n",
       "      <td>7</td>\n",
       "      <td>9.0</td>\n",
       "      <td>1969</td>\n",
       "      <td>0.089040</td>\n",
       "      <td>B</td>\n",
       "      <td>B</td>\n",
       "      <td>33</td>\n",
       "      <td>7976</td>\n",
       "      <td>5</td>\n",
       "      <td>NaN</td>\n",
       "      <td>0</td>\n",
       "      <td>11</td>\n",
       "      <td>B</td>\n",
       "      <td>184966.930730</td>\n",
       "    </tr>\n",
       "    <tr>\n",
       "      <th>1</th>\n",
       "      <td>15053</td>\n",
       "      <td>41</td>\n",
       "      <td>3.0</td>\n",
       "      <td>65.683640</td>\n",
       "      <td>40.049543</td>\n",
       "      <td>8.0</td>\n",
       "      <td>7</td>\n",
       "      <td>9.0</td>\n",
       "      <td>1978</td>\n",
       "      <td>0.000070</td>\n",
       "      <td>B</td>\n",
       "      <td>B</td>\n",
       "      <td>46</td>\n",
       "      <td>10309</td>\n",
       "      <td>1</td>\n",
       "      <td>240.0</td>\n",
       "      <td>1</td>\n",
       "      <td>16</td>\n",
       "      <td>B</td>\n",
       "      <td>300009.450063</td>\n",
       "    </tr>\n",
       "    <tr>\n",
       "      <th>2</th>\n",
       "      <td>4765</td>\n",
       "      <td>53</td>\n",
       "      <td>2.0</td>\n",
       "      <td>44.947953</td>\n",
       "      <td>29.197612</td>\n",
       "      <td>0.0</td>\n",
       "      <td>8</td>\n",
       "      <td>12.0</td>\n",
       "      <td>1968</td>\n",
       "      <td>0.049637</td>\n",
       "      <td>B</td>\n",
       "      <td>B</td>\n",
       "      <td>34</td>\n",
       "      <td>7759</td>\n",
       "      <td>0</td>\n",
       "      <td>229.0</td>\n",
       "      <td>1</td>\n",
       "      <td>3</td>\n",
       "      <td>B</td>\n",
       "      <td>220925.908524</td>\n",
       "    </tr>\n",
       "    <tr>\n",
       "      <th>3</th>\n",
       "      <td>5809</td>\n",
       "      <td>58</td>\n",
       "      <td>2.0</td>\n",
       "      <td>53.352981</td>\n",
       "      <td>52.731512</td>\n",
       "      <td>9.0</td>\n",
       "      <td>8</td>\n",
       "      <td>17.0</td>\n",
       "      <td>1977</td>\n",
       "      <td>0.437885</td>\n",
       "      <td>B</td>\n",
       "      <td>B</td>\n",
       "      <td>23</td>\n",
       "      <td>5735</td>\n",
       "      <td>3</td>\n",
       "      <td>1084.0</td>\n",
       "      <td>0</td>\n",
       "      <td>5</td>\n",
       "      <td>B</td>\n",
       "      <td>175616.227217</td>\n",
       "    </tr>\n",
       "    <tr>\n",
       "      <th>4</th>\n",
       "      <td>10783</td>\n",
       "      <td>99</td>\n",
       "      <td>1.0</td>\n",
       "      <td>39.649192</td>\n",
       "      <td>23.776169</td>\n",
       "      <td>7.0</td>\n",
       "      <td>11</td>\n",
       "      <td>12.0</td>\n",
       "      <td>1976</td>\n",
       "      <td>0.012339</td>\n",
       "      <td>B</td>\n",
       "      <td>B</td>\n",
       "      <td>35</td>\n",
       "      <td>5776</td>\n",
       "      <td>1</td>\n",
       "      <td>2078.0</td>\n",
       "      <td>2</td>\n",
       "      <td>4</td>\n",
       "      <td>B</td>\n",
       "      <td>150226.531644</td>\n",
       "    </tr>\n",
       "  </tbody>\n",
       "</table>\n",
       "</div>"
      ],
      "text/plain": [
       "      Id  DistrictId  Rooms     Square  LifeSquare  KitchenSquare  Floor  \\\n",
       "0  14038          35    2.0  47.981561   29.442751            6.0      7   \n",
       "1  15053          41    3.0  65.683640   40.049543            8.0      7   \n",
       "2   4765          53    2.0  44.947953   29.197612            0.0      8   \n",
       "3   5809          58    2.0  53.352981   52.731512            9.0      8   \n",
       "4  10783          99    1.0  39.649192   23.776169            7.0     11   \n",
       "\n",
       "   HouseFloor  HouseYear  Ecology_1 Ecology_2 Ecology_3  Social_1  Social_2  \\\n",
       "0         9.0       1969   0.089040         B         B        33      7976   \n",
       "1         9.0       1978   0.000070         B         B        46     10309   \n",
       "2        12.0       1968   0.049637         B         B        34      7759   \n",
       "3        17.0       1977   0.437885         B         B        23      5735   \n",
       "4        12.0       1976   0.012339         B         B        35      5776   \n",
       "\n",
       "   Social_3  Healthcare_1  Helthcare_2  Shops_1 Shops_2          Price  \n",
       "0         5           NaN            0       11       B  184966.930730  \n",
       "1         1         240.0            1       16       B  300009.450063  \n",
       "2         0         229.0            1        3       B  220925.908524  \n",
       "3         3        1084.0            0        5       B  175616.227217  \n",
       "4         1        2078.0            2        4       B  150226.531644  "
      ]
     },
     "execution_count": 588,
     "metadata": {},
     "output_type": "execute_result"
    }
   ],
   "source": [
    "data.head()"
   ]
  },
  {
   "cell_type": "code",
   "execution_count": 589,
   "metadata": {},
   "outputs": [
    {
     "data": {
      "text/html": [
       "<div>\n",
       "<style scoped>\n",
       "    .dataframe tbody tr th:only-of-type {\n",
       "        vertical-align: middle;\n",
       "    }\n",
       "\n",
       "    .dataframe tbody tr th {\n",
       "        vertical-align: top;\n",
       "    }\n",
       "\n",
       "    .dataframe thead th {\n",
       "        text-align: right;\n",
       "    }\n",
       "</style>\n",
       "<table border=\"1\" class=\"dataframe\">\n",
       "  <thead>\n",
       "    <tr style=\"text-align: right;\">\n",
       "      <th></th>\n",
       "      <th>Id</th>\n",
       "      <th>DistrictId</th>\n",
       "      <th>Rooms</th>\n",
       "      <th>Square</th>\n",
       "      <th>LifeSquare</th>\n",
       "      <th>KitchenSquare</th>\n",
       "      <th>Floor</th>\n",
       "      <th>HouseFloor</th>\n",
       "      <th>HouseYear</th>\n",
       "      <th>Ecology_1</th>\n",
       "      <th>Ecology_2</th>\n",
       "      <th>Ecology_3</th>\n",
       "      <th>Social_1</th>\n",
       "      <th>Social_2</th>\n",
       "      <th>Social_3</th>\n",
       "      <th>Healthcare_1</th>\n",
       "      <th>Helthcare_2</th>\n",
       "      <th>Shops_1</th>\n",
       "      <th>Shops_2</th>\n",
       "      <th>Price</th>\n",
       "    </tr>\n",
       "  </thead>\n",
       "  <tbody>\n",
       "    <tr>\n",
       "      <th>1397</th>\n",
       "      <td>12638</td>\n",
       "      <td>27</td>\n",
       "      <td>0.0</td>\n",
       "      <td>138.427694</td>\n",
       "      <td>136.215499</td>\n",
       "      <td>0.0</td>\n",
       "      <td>4</td>\n",
       "      <td>3.0</td>\n",
       "      <td>2016</td>\n",
       "      <td>0.075424</td>\n",
       "      <td>B</td>\n",
       "      <td>B</td>\n",
       "      <td>11</td>\n",
       "      <td>3097</td>\n",
       "      <td>0</td>\n",
       "      <td>NaN</td>\n",
       "      <td>0</td>\n",
       "      <td>0</td>\n",
       "      <td>B</td>\n",
       "      <td>268394.744389</td>\n",
       "    </tr>\n",
       "    <tr>\n",
       "      <th>1981</th>\n",
       "      <td>7917</td>\n",
       "      <td>27</td>\n",
       "      <td>0.0</td>\n",
       "      <td>212.932361</td>\n",
       "      <td>211.231125</td>\n",
       "      <td>0.0</td>\n",
       "      <td>2</td>\n",
       "      <td>3.0</td>\n",
       "      <td>2008</td>\n",
       "      <td>0.211401</td>\n",
       "      <td>B</td>\n",
       "      <td>B</td>\n",
       "      <td>9</td>\n",
       "      <td>1892</td>\n",
       "      <td>0</td>\n",
       "      <td>NaN</td>\n",
       "      <td>0</td>\n",
       "      <td>1</td>\n",
       "      <td>B</td>\n",
       "      <td>302211.260887</td>\n",
       "    </tr>\n",
       "    <tr>\n",
       "      <th>2269</th>\n",
       "      <td>7317</td>\n",
       "      <td>27</td>\n",
       "      <td>0.0</td>\n",
       "      <td>41.790881</td>\n",
       "      <td>NaN</td>\n",
       "      <td>0.0</td>\n",
       "      <td>13</td>\n",
       "      <td>0.0</td>\n",
       "      <td>1977</td>\n",
       "      <td>0.211401</td>\n",
       "      <td>B</td>\n",
       "      <td>B</td>\n",
       "      <td>9</td>\n",
       "      <td>1892</td>\n",
       "      <td>0</td>\n",
       "      <td>NaN</td>\n",
       "      <td>0</td>\n",
       "      <td>1</td>\n",
       "      <td>B</td>\n",
       "      <td>98129.976788</td>\n",
       "    </tr>\n",
       "    <tr>\n",
       "      <th>3911</th>\n",
       "      <td>770</td>\n",
       "      <td>28</td>\n",
       "      <td>0.0</td>\n",
       "      <td>49.483501</td>\n",
       "      <td>NaN</td>\n",
       "      <td>0.0</td>\n",
       "      <td>16</td>\n",
       "      <td>0.0</td>\n",
       "      <td>2015</td>\n",
       "      <td>0.118537</td>\n",
       "      <td>B</td>\n",
       "      <td>B</td>\n",
       "      <td>30</td>\n",
       "      <td>6207</td>\n",
       "      <td>1</td>\n",
       "      <td>1183.0</td>\n",
       "      <td>1</td>\n",
       "      <td>0</td>\n",
       "      <td>B</td>\n",
       "      <td>217009.338463</td>\n",
       "    </tr>\n",
       "    <tr>\n",
       "      <th>4366</th>\n",
       "      <td>456</td>\n",
       "      <td>6</td>\n",
       "      <td>0.0</td>\n",
       "      <td>81.491446</td>\n",
       "      <td>NaN</td>\n",
       "      <td>0.0</td>\n",
       "      <td>4</td>\n",
       "      <td>0.0</td>\n",
       "      <td>1977</td>\n",
       "      <td>0.243205</td>\n",
       "      <td>B</td>\n",
       "      <td>B</td>\n",
       "      <td>5</td>\n",
       "      <td>1564</td>\n",
       "      <td>0</td>\n",
       "      <td>540.0</td>\n",
       "      <td>0</td>\n",
       "      <td>0</td>\n",
       "      <td>B</td>\n",
       "      <td>212864.799112</td>\n",
       "    </tr>\n",
       "    <tr>\n",
       "      <th>4853</th>\n",
       "      <td>3224</td>\n",
       "      <td>27</td>\n",
       "      <td>0.0</td>\n",
       "      <td>2.377248</td>\n",
       "      <td>0.873147</td>\n",
       "      <td>0.0</td>\n",
       "      <td>1</td>\n",
       "      <td>0.0</td>\n",
       "      <td>1977</td>\n",
       "      <td>0.017647</td>\n",
       "      <td>B</td>\n",
       "      <td>B</td>\n",
       "      <td>2</td>\n",
       "      <td>469</td>\n",
       "      <td>0</td>\n",
       "      <td>NaN</td>\n",
       "      <td>0</td>\n",
       "      <td>0</td>\n",
       "      <td>B</td>\n",
       "      <td>126596.941798</td>\n",
       "    </tr>\n",
       "    <tr>\n",
       "      <th>6149</th>\n",
       "      <td>3159</td>\n",
       "      <td>88</td>\n",
       "      <td>0.0</td>\n",
       "      <td>38.697117</td>\n",
       "      <td>19.345131</td>\n",
       "      <td>9.0</td>\n",
       "      <td>9</td>\n",
       "      <td>16.0</td>\n",
       "      <td>1982</td>\n",
       "      <td>0.127376</td>\n",
       "      <td>B</td>\n",
       "      <td>B</td>\n",
       "      <td>43</td>\n",
       "      <td>8429</td>\n",
       "      <td>3</td>\n",
       "      <td>NaN</td>\n",
       "      <td>3</td>\n",
       "      <td>9</td>\n",
       "      <td>B</td>\n",
       "      <td>158998.110646</td>\n",
       "    </tr>\n",
       "    <tr>\n",
       "      <th>8834</th>\n",
       "      <td>9443</td>\n",
       "      <td>27</td>\n",
       "      <td>0.0</td>\n",
       "      <td>87.762616</td>\n",
       "      <td>85.125471</td>\n",
       "      <td>0.0</td>\n",
       "      <td>5</td>\n",
       "      <td>15.0</td>\n",
       "      <td>1977</td>\n",
       "      <td>0.211401</td>\n",
       "      <td>B</td>\n",
       "      <td>B</td>\n",
       "      <td>9</td>\n",
       "      <td>1892</td>\n",
       "      <td>0</td>\n",
       "      <td>NaN</td>\n",
       "      <td>0</td>\n",
       "      <td>1</td>\n",
       "      <td>B</td>\n",
       "      <td>219281.918007</td>\n",
       "    </tr>\n",
       "  </tbody>\n",
       "</table>\n",
       "</div>"
      ],
      "text/plain": [
       "         Id  DistrictId  Rooms      Square  LifeSquare  KitchenSquare  Floor  \\\n",
       "1397  12638          27    0.0  138.427694  136.215499            0.0      4   \n",
       "1981   7917          27    0.0  212.932361  211.231125            0.0      2   \n",
       "2269   7317          27    0.0   41.790881         NaN            0.0     13   \n",
       "3911    770          28    0.0   49.483501         NaN            0.0     16   \n",
       "4366    456           6    0.0   81.491446         NaN            0.0      4   \n",
       "4853   3224          27    0.0    2.377248    0.873147            0.0      1   \n",
       "6149   3159          88    0.0   38.697117   19.345131            9.0      9   \n",
       "8834   9443          27    0.0   87.762616   85.125471            0.0      5   \n",
       "\n",
       "      HouseFloor  HouseYear  Ecology_1 Ecology_2 Ecology_3  Social_1  \\\n",
       "1397         3.0       2016   0.075424         B         B        11   \n",
       "1981         3.0       2008   0.211401         B         B         9   \n",
       "2269         0.0       1977   0.211401         B         B         9   \n",
       "3911         0.0       2015   0.118537         B         B        30   \n",
       "4366         0.0       1977   0.243205         B         B         5   \n",
       "4853         0.0       1977   0.017647         B         B         2   \n",
       "6149        16.0       1982   0.127376         B         B        43   \n",
       "8834        15.0       1977   0.211401         B         B         9   \n",
       "\n",
       "      Social_2  Social_3  Healthcare_1  Helthcare_2  Shops_1 Shops_2  \\\n",
       "1397      3097         0           NaN            0        0       B   \n",
       "1981      1892         0           NaN            0        1       B   \n",
       "2269      1892         0           NaN            0        1       B   \n",
       "3911      6207         1        1183.0            1        0       B   \n",
       "4366      1564         0         540.0            0        0       B   \n",
       "4853       469         0           NaN            0        0       B   \n",
       "6149      8429         3           NaN            3        9       B   \n",
       "8834      1892         0           NaN            0        1       B   \n",
       "\n",
       "              Price  \n",
       "1397  268394.744389  \n",
       "1981  302211.260887  \n",
       "2269   98129.976788  \n",
       "3911  217009.338463  \n",
       "4366  212864.799112  \n",
       "4853  126596.941798  \n",
       "6149  158998.110646  \n",
       "8834  219281.918007  "
      ]
     },
     "execution_count": 589,
     "metadata": {},
     "output_type": "execute_result"
    }
   ],
   "source": [
    "data.loc[data['Rooms']==0,:]"
   ]
  },
  {
   "cell_type": "code",
   "execution_count": 590,
   "metadata": {},
   "outputs": [
    {
     "data": {
      "text/plain": [
       "Index(['Id', 'DistrictId', 'Rooms', 'Square', 'LifeSquare', 'KitchenSquare',\n",
       "       'Floor', 'HouseFloor', 'HouseYear', 'Ecology_1', 'Social_1', 'Social_2',\n",
       "       'Social_3', 'Healthcare_1', 'Helthcare_2', 'Shops_1', 'Price',\n",
       "       'Ecology_2_A', 'Ecology_2_B', 'Ecology_3_A', 'Ecology_3_B', 'Shops_2_A',\n",
       "       'Shops_2_B'],\n",
       "      dtype='object')"
      ]
     },
     "execution_count": 590,
     "metadata": {},
     "output_type": "execute_result"
    }
   ],
   "source": [
    "data = data.loc[data['Rooms']<10,:]\n",
    "\n",
    "data = data.loc[data['Price'].between(30000,600000),:]\n",
    "\n",
    "data['LifeSquare'] = data['LifeSquare'].fillna(data['Square'])\n",
    "\n",
    "data.loc[(data['Square']<15)&(data['LifeSquare']>15),'Square'] = data['LifeSquare']\n",
    "\n",
    "data.loc[(data['Square']<15)&(data['LifeSquare']<15)&(data['Rooms']<=1),'Square'] = data.loc[data['Rooms']==1,'Square'].mean()\n",
    "\n",
    "data.loc[(data['Square']<15)&(data['LifeSquare']<15)&(data['Rooms']==2),'Square'] = data.loc[data['Rooms']==2,'Square'].mean()\n",
    "\n",
    "data.loc[(data['Square']<15)&(data['LifeSquare']<15)&(data['Rooms']==3),'Square'] = data.loc[data['Rooms']==3,'Square'].mean()\n",
    "\n",
    "data.loc[(data['Square']<15)&(data['LifeSquare']<15)&(data['Rooms']==4),'Square'] = data.loc[data['Rooms']==4,'Square'].mean()\n",
    "\n",
    "data.loc[(data['Square']<15)&(data['LifeSquare']<15)&(data['Rooms']==5),'Square'] = data.loc[data['Rooms']==5,'Square'].mean()\n",
    "\n",
    "data.loc[(data['Square']>15)&(data['LifeSquare']<15),'LifeSquare'] = data['Square']\n",
    "\n",
    "data.loc[data['Square']<data['LifeSquare'],'LifeSquare'] = data['Square'] \n",
    "\n",
    "data.loc[data['HouseYear']>2019,'HouseYear'] = data.loc[:,'HouseYear'].mean()\n",
    "\n",
    "data.loc[data['KitchenSquare']>data['Square'],'KitchenSquare'] = data.loc[data['Rooms']==1,'KitchenSquare'].mean()\n",
    "\n",
    "data.loc[data['Floor']>data['HouseFloor'],'HouseFloor'] = data['Floor']\n",
    "\n",
    "data = pd.get_dummies(data)\n",
    "\n",
    "data.columns"
   ]
  },
  {
   "cell_type": "code",
   "execution_count": 591,
   "metadata": {},
   "outputs": [
    {
     "name": "stdout",
     "output_type": "stream",
     "text": [
      "<class 'pandas.core.frame.DataFrame'>\n",
      "Int64Index: 9977 entries, 0 to 9999\n",
      "Data columns (total 23 columns):\n",
      "Id               9977 non-null int64\n",
      "DistrictId       9977 non-null int64\n",
      "Rooms            9977 non-null float64\n",
      "Square           9977 non-null float64\n",
      "LifeSquare       9977 non-null float64\n",
      "KitchenSquare    9977 non-null float64\n",
      "Floor            9977 non-null int64\n",
      "HouseFloor       9977 non-null float64\n",
      "HouseYear        9977 non-null float64\n",
      "Ecology_1        9977 non-null float64\n",
      "Social_1         9977 non-null int64\n",
      "Social_2         9977 non-null int64\n",
      "Social_3         9977 non-null int64\n",
      "Healthcare_1     5185 non-null float64\n",
      "Helthcare_2      9977 non-null int64\n",
      "Shops_1          9977 non-null int64\n",
      "Price            9977 non-null float64\n",
      "Ecology_2_A      9977 non-null uint8\n",
      "Ecology_2_B      9977 non-null uint8\n",
      "Ecology_3_A      9977 non-null uint8\n",
      "Ecology_3_B      9977 non-null uint8\n",
      "Shops_2_A        9977 non-null uint8\n",
      "Shops_2_B        9977 non-null uint8\n",
      "dtypes: float64(9), int64(8), uint8(6)\n",
      "memory usage: 1.7 MB\n"
     ]
    }
   ],
   "source": [
    "data.info()"
   ]
  },
  {
   "cell_type": "code",
   "execution_count": 592,
   "metadata": {},
   "outputs": [],
   "source": [
    "train, valid = train_test_split(data, test_size=0.3, random_state=42)"
   ]
  },
  {
   "cell_type": "code",
   "execution_count": 593,
   "metadata": {},
   "outputs": [],
   "source": [
    "fts = ['Square','Rooms','LifeSquare','Ecology_1','Social_3','Helthcare_2','Shops_1','Ecology_2_A','Ecology_2_B','Ecology_3_A','Ecology_3_B','Shops_2_A','Shops_2_B','HouseYear','Floor','HouseFloor','KitchenSquare']"
   ]
  },
  {
   "cell_type": "markdown",
   "metadata": {},
   "source": [
    "линейная регрессия"
   ]
  },
  {
   "cell_type": "code",
   "execution_count": 594,
   "metadata": {},
   "outputs": [],
   "source": [
    "lr = LinearRegression()"
   ]
  },
  {
   "cell_type": "code",
   "execution_count": 595,
   "metadata": {},
   "outputs": [
    {
     "data": {
      "text/plain": [
       "LinearRegression(copy_X=True, fit_intercept=True, n_jobs=None,\n",
       "         normalize=False)"
      ]
     },
     "execution_count": 595,
     "metadata": {},
     "output_type": "execute_result"
    }
   ],
   "source": [
    "lr.fit(train.loc[:,fts], train['Price'])"
   ]
  },
  {
   "cell_type": "code",
   "execution_count": 596,
   "metadata": {},
   "outputs": [],
   "source": [
    "pred = lr.predict(train.loc[:,fts])"
   ]
  },
  {
   "cell_type": "code",
   "execution_count": 597,
   "metadata": {},
   "outputs": [
    {
     "data": {
      "text/plain": [
       "array([294072.36816661, 299040.92179837, 262224.71247431, ...,\n",
       "       223616.82682327, 156386.93894505, 119152.35184776])"
      ]
     },
     "execution_count": 597,
     "metadata": {},
     "output_type": "execute_result"
    }
   ],
   "source": [
    "pred"
   ]
  },
  {
   "cell_type": "code",
   "execution_count": 598,
   "metadata": {},
   "outputs": [
    {
     "data": {
      "text/plain": [
       "0.4770074733003947"
      ]
     },
     "execution_count": 598,
     "metadata": {},
     "output_type": "execute_result"
    }
   ],
   "source": [
    "r2(train['Price'], pred)"
   ]
  },
  {
   "cell_type": "code",
   "execution_count": 599,
   "metadata": {},
   "outputs": [],
   "source": [
    "pred_valid = lr.predict(valid.loc[:,fts])"
   ]
  },
  {
   "cell_type": "code",
   "execution_count": 600,
   "metadata": {},
   "outputs": [
    {
     "data": {
      "text/plain": [
       "0.48003249843255547"
      ]
     },
     "execution_count": 600,
     "metadata": {},
     "output_type": "execute_result"
    }
   ],
   "source": [
    "r2(valid['Price'],pred_valid)"
   ]
  },
  {
   "cell_type": "markdown",
   "metadata": {},
   "source": [
    "RF"
   ]
  },
  {
   "cell_type": "code",
   "execution_count": 601,
   "metadata": {},
   "outputs": [],
   "source": [
    "from sklearn.ensemble import RandomForestRegressor as RF"
   ]
  },
  {
   "cell_type": "code",
   "execution_count": 602,
   "metadata": {},
   "outputs": [],
   "source": [
    "clf = RF(max_depth=18,n_estimators=40,max_features=3,random_state=100)"
   ]
  },
  {
   "cell_type": "code",
   "execution_count": 603,
   "metadata": {},
   "outputs": [],
   "source": [
    "parameters = [{'n_estimators': [20,25,30,35,40,45,50],'max_features': np.arange(3,5),'max_depth': np.arange(10,30)}]"
   ]
  },
  {
   "cell_type": "code",
   "execution_count": 604,
   "metadata": {},
   "outputs": [],
   "source": [
    "from sklearn.model_selection import GridSearchCV"
   ]
  },
  {
   "cell_type": "code",
   "execution_count": 605,
   "metadata": {},
   "outputs": [],
   "source": [
    "clf = GridSearchCV(estimator=RF(random_state=100),param_grid=parameters,scoring='r2',cv=3)"
   ]
  },
  {
   "cell_type": "code",
   "execution_count": 606,
   "metadata": {},
   "outputs": [
    {
     "data": {
      "text/plain": [
       "GridSearchCV(cv=3, error_score='raise-deprecating',\n",
       "       estimator=RandomForestRegressor(bootstrap=True, criterion='mse', max_depth=None,\n",
       "           max_features='auto', max_leaf_nodes=None,\n",
       "           min_impurity_decrease=0.0, min_impurity_split=None,\n",
       "           min_samples_leaf=1, min_samples_split=2,\n",
       "           min_weight_fraction_leaf=0.0, n_estimators='warn', n_jobs=None,\n",
       "           oob_score=False, random_state=100, verbose=0, warm_start=False),\n",
       "       fit_params=None, iid='warn', n_jobs=None,\n",
       "       param_grid=[{'n_estimators': [20, 25, 30, 35, 40, 45, 50], 'max_features': array([3, 4]), 'max_depth': array([10, 11, 12, 13, 14, 15, 16, 17, 18, 19, 20, 21, 22, 23, 24, 25, 26,\n",
       "       27, 28, 29])}],\n",
       "       pre_dispatch='2*n_jobs', refit=True, return_train_score='warn',\n",
       "       scoring='r2', verbose=0)"
      ]
     },
     "execution_count": 606,
     "metadata": {},
     "output_type": "execute_result"
    }
   ],
   "source": [
    "clf.fit(train.loc[:,fts],train['Price'])"
   ]
  },
  {
   "cell_type": "code",
   "execution_count": 607,
   "metadata": {},
   "outputs": [
    {
     "data": {
      "text/plain": [
       "{'max_depth': 26, 'max_features': 4, 'n_estimators': 50}"
      ]
     },
     "execution_count": 607,
     "metadata": {},
     "output_type": "execute_result"
    }
   ],
   "source": [
    "clf.best_params_"
   ]
  },
  {
   "cell_type": "code",
   "execution_count": 608,
   "metadata": {},
   "outputs": [],
   "source": [
    "pred = clf.predict(train.loc[:,fts])"
   ]
  },
  {
   "cell_type": "code",
   "execution_count": 609,
   "metadata": {},
   "outputs": [
    {
     "data": {
      "text/plain": [
       "0.9605050421973659"
      ]
     },
     "execution_count": 609,
     "metadata": {},
     "output_type": "execute_result"
    }
   ],
   "source": [
    "r2(train['Price'], pred)"
   ]
  },
  {
   "cell_type": "code",
   "execution_count": 610,
   "metadata": {},
   "outputs": [],
   "source": [
    "pred_valid = clf.predict(valid.loc[:,fts])"
   ]
  },
  {
   "cell_type": "code",
   "execution_count": 611,
   "metadata": {},
   "outputs": [
    {
     "data": {
      "text/plain": [
       "0.7329242999726164"
      ]
     },
     "execution_count": 611,
     "metadata": {},
     "output_type": "execute_result"
    }
   ],
   "source": [
    "r2(valid['Price'],pred_valid)"
   ]
  },
  {
   "cell_type": "code",
   "execution_count": 632,
   "metadata": {},
   "outputs": [],
   "source": [
    "from sklearn.metrics import mean_squared_error as MSE"
   ]
  },
  {
   "cell_type": "code",
   "execution_count": 633,
   "metadata": {},
   "outputs": [
    {
     "data": {
      "text/plain": [
       "2800749461.0085745"
      ]
     },
     "execution_count": 633,
     "metadata": {},
     "output_type": "execute_result"
    }
   ],
   "source": [
    "MSE(valid['Price'],pred_valid)"
   ]
  },
  {
   "cell_type": "markdown",
   "metadata": {},
   "source": [
    "дерево решений"
   ]
  },
  {
   "cell_type": "code",
   "execution_count": 612,
   "metadata": {},
   "outputs": [],
   "source": [
    "from sklearn.tree import DecisionTreeRegressor"
   ]
  },
  {
   "cell_type": "code",
   "execution_count": 613,
   "metadata": {},
   "outputs": [],
   "source": [
    "regressor = DecisionTreeRegressor(max_depth=21, random_state=100)"
   ]
  },
  {
   "cell_type": "code",
   "execution_count": 614,
   "metadata": {},
   "outputs": [
    {
     "data": {
      "text/plain": [
       "DecisionTreeRegressor(criterion='mse', max_depth=21, max_features=None,\n",
       "           max_leaf_nodes=None, min_impurity_decrease=0.0,\n",
       "           min_impurity_split=None, min_samples_leaf=1,\n",
       "           min_samples_split=2, min_weight_fraction_leaf=0.0,\n",
       "           presort=False, random_state=100, splitter='best')"
      ]
     },
     "execution_count": 614,
     "metadata": {},
     "output_type": "execute_result"
    }
   ],
   "source": [
    "regressor.fit(train.loc[:,fts],train['Price'])"
   ]
  },
  {
   "cell_type": "code",
   "execution_count": 615,
   "metadata": {},
   "outputs": [],
   "source": [
    "pred = regressor.predict(train.loc[:,fts])"
   ]
  },
  {
   "cell_type": "code",
   "execution_count": 616,
   "metadata": {},
   "outputs": [
    {
     "data": {
      "text/plain": [
       "0.9929516641890029"
      ]
     },
     "execution_count": 616,
     "metadata": {},
     "output_type": "execute_result"
    }
   ],
   "source": [
    "r2(train['Price'], pred)"
   ]
  },
  {
   "cell_type": "code",
   "execution_count": 617,
   "metadata": {},
   "outputs": [],
   "source": [
    "pred_valid = regressor.predict(valid.loc[:,fts])"
   ]
  },
  {
   "cell_type": "code",
   "execution_count": 618,
   "metadata": {},
   "outputs": [
    {
     "data": {
      "text/plain": [
       "0.4876303457222443"
      ]
     },
     "execution_count": 618,
     "metadata": {},
     "output_type": "execute_result"
    }
   ],
   "source": [
    "r2(valid['Price'],pred_valid)"
   ]
  },
  {
   "cell_type": "markdown",
   "metadata": {},
   "source": [
    "KNN"
   ]
  },
  {
   "cell_type": "code",
   "execution_count": 619,
   "metadata": {},
   "outputs": [],
   "source": [
    "from sklearn.preprocessing import StandardScaler\n",
    "from sklearn.neighbors import KNeighborsRegressor as KNN"
   ]
  },
  {
   "cell_type": "markdown",
   "metadata": {},
   "source": [
    "масштабирование"
   ]
  },
  {
   "cell_type": "code",
   "execution_count": 620,
   "metadata": {},
   "outputs": [
    {
     "name": "stderr",
     "output_type": "stream",
     "text": [
      "C:\\ProgramData\\Anaconda3\\lib\\site-packages\\sklearn\\preprocessing\\data.py:625: DataConversionWarning: Data with input dtype uint8, int64, float64 were all converted to float64 by StandardScaler.\n",
      "  return self.partial_fit(X, y)\n",
      "C:\\ProgramData\\Anaconda3\\lib\\site-packages\\sklearn\\base.py:462: DataConversionWarning: Data with input dtype uint8, int64, float64 were all converted to float64 by StandardScaler.\n",
      "  return self.fit(X, **fit_params).transform(X)\n",
      "C:\\ProgramData\\Anaconda3\\lib\\site-packages\\ipykernel_launcher.py:3: DataConversionWarning: Data with input dtype uint8, int64, float64 were all converted to float64 by StandardScaler.\n",
      "  This is separate from the ipykernel package so we can avoid doing imports until\n"
     ]
    }
   ],
   "source": [
    "scaler = StandardScaler()\n",
    "train_scaled = scaler.fit_transform(train.loc[:,fts])\n",
    "valid_scaled = scaler.transform(valid.loc[:,fts])"
   ]
  },
  {
   "cell_type": "code",
   "execution_count": 621,
   "metadata": {},
   "outputs": [
    {
     "name": "stdout",
     "output_type": "stream",
     "text": [
      "n_neighbors=2\n",
      "1.0\n",
      "0.5854174231055721\n",
      "\n",
      "n_neighbors=4\n",
      "1.0\n",
      "0.6307859042820455\n",
      "\n",
      "n_neighbors=6\n",
      "1.0\n",
      "0.6419533623871729\n",
      "\n",
      "n_neighbors=8\n",
      "1.0\n",
      "0.6448303824288586\n",
      "\n",
      "n_neighbors=10\n",
      "1.0\n",
      "0.6466691261262059\n",
      "\n"
     ]
    }
   ],
   "source": [
    "for i in range(2,12,2):\n",
    "    print(f'n_neighbors={i}')\n",
    "    knn = KNN(n_neighbors=i,weights='distance')\n",
    "    knn.fit(train_scaled, train['Price'])\n",
    "    pred = knn.predict(train_scaled)\n",
    "    print(r2(train['Price'],pred))\n",
    "    pred_valid = knn.predict(valid_scaled)\n",
    "    print(r2(valid['Price'],pred_valid))\n",
    "    print()"
   ]
  },
  {
   "cell_type": "markdown",
   "metadata": {},
   "source": [
    "Вывод: \n",
    "    самая лучшая модель Random Forest (случайный лес). \n",
    "    Она дает наилучшие предсказания и ее будем использовать для теста!"
   ]
  },
  {
   "cell_type": "code",
   "execution_count": 622,
   "metadata": {},
   "outputs": [],
   "source": [
    "test = pd.read_csv('input/test.csv')"
   ]
  },
  {
   "cell_type": "code",
   "execution_count": 623,
   "metadata": {},
   "outputs": [
    {
     "data": {
      "text/html": [
       "<div>\n",
       "<style scoped>\n",
       "    .dataframe tbody tr th:only-of-type {\n",
       "        vertical-align: middle;\n",
       "    }\n",
       "\n",
       "    .dataframe tbody tr th {\n",
       "        vertical-align: top;\n",
       "    }\n",
       "\n",
       "    .dataframe thead th {\n",
       "        text-align: right;\n",
       "    }\n",
       "</style>\n",
       "<table border=\"1\" class=\"dataframe\">\n",
       "  <thead>\n",
       "    <tr style=\"text-align: right;\">\n",
       "      <th></th>\n",
       "      <th>Id</th>\n",
       "      <th>DistrictId</th>\n",
       "      <th>Rooms</th>\n",
       "      <th>Square</th>\n",
       "      <th>LifeSquare</th>\n",
       "      <th>KitchenSquare</th>\n",
       "      <th>Floor</th>\n",
       "      <th>HouseFloor</th>\n",
       "      <th>HouseYear</th>\n",
       "      <th>Ecology_1</th>\n",
       "      <th>Ecology_2</th>\n",
       "      <th>Ecology_3</th>\n",
       "      <th>Social_1</th>\n",
       "      <th>Social_2</th>\n",
       "      <th>Social_3</th>\n",
       "      <th>Healthcare_1</th>\n",
       "      <th>Helthcare_2</th>\n",
       "      <th>Shops_1</th>\n",
       "      <th>Shops_2</th>\n",
       "    </tr>\n",
       "  </thead>\n",
       "  <tbody>\n",
       "    <tr>\n",
       "      <th>0</th>\n",
       "      <td>725</td>\n",
       "      <td>58</td>\n",
       "      <td>2.0</td>\n",
       "      <td>49.882643</td>\n",
       "      <td>33.432782</td>\n",
       "      <td>6.0</td>\n",
       "      <td>6</td>\n",
       "      <td>14.0</td>\n",
       "      <td>1972</td>\n",
       "      <td>0.310199</td>\n",
       "      <td>B</td>\n",
       "      <td>B</td>\n",
       "      <td>11</td>\n",
       "      <td>2748</td>\n",
       "      <td>1</td>\n",
       "      <td>NaN</td>\n",
       "      <td>0</td>\n",
       "      <td>0</td>\n",
       "      <td>B</td>\n",
       "    </tr>\n",
       "    <tr>\n",
       "      <th>1</th>\n",
       "      <td>15856</td>\n",
       "      <td>74</td>\n",
       "      <td>2.0</td>\n",
       "      <td>69.263183</td>\n",
       "      <td>NaN</td>\n",
       "      <td>1.0</td>\n",
       "      <td>6</td>\n",
       "      <td>1.0</td>\n",
       "      <td>1977</td>\n",
       "      <td>0.075779</td>\n",
       "      <td>B</td>\n",
       "      <td>B</td>\n",
       "      <td>6</td>\n",
       "      <td>1437</td>\n",
       "      <td>3</td>\n",
       "      <td>NaN</td>\n",
       "      <td>0</td>\n",
       "      <td>2</td>\n",
       "      <td>B</td>\n",
       "    </tr>\n",
       "    <tr>\n",
       "      <th>2</th>\n",
       "      <td>5480</td>\n",
       "      <td>190</td>\n",
       "      <td>1.0</td>\n",
       "      <td>13.597819</td>\n",
       "      <td>15.948246</td>\n",
       "      <td>12.0</td>\n",
       "      <td>2</td>\n",
       "      <td>5.0</td>\n",
       "      <td>1909</td>\n",
       "      <td>0.000000</td>\n",
       "      <td>B</td>\n",
       "      <td>B</td>\n",
       "      <td>30</td>\n",
       "      <td>7538</td>\n",
       "      <td>87</td>\n",
       "      <td>4702.0</td>\n",
       "      <td>5</td>\n",
       "      <td>5</td>\n",
       "      <td>B</td>\n",
       "    </tr>\n",
       "    <tr>\n",
       "      <th>3</th>\n",
       "      <td>15664</td>\n",
       "      <td>47</td>\n",
       "      <td>2.0</td>\n",
       "      <td>73.046609</td>\n",
       "      <td>51.940842</td>\n",
       "      <td>9.0</td>\n",
       "      <td>22</td>\n",
       "      <td>22.0</td>\n",
       "      <td>2007</td>\n",
       "      <td>0.101872</td>\n",
       "      <td>B</td>\n",
       "      <td>B</td>\n",
       "      <td>23</td>\n",
       "      <td>4583</td>\n",
       "      <td>3</td>\n",
       "      <td>NaN</td>\n",
       "      <td>3</td>\n",
       "      <td>3</td>\n",
       "      <td>B</td>\n",
       "    </tr>\n",
       "    <tr>\n",
       "      <th>4</th>\n",
       "      <td>14275</td>\n",
       "      <td>27</td>\n",
       "      <td>1.0</td>\n",
       "      <td>47.527111</td>\n",
       "      <td>43.387569</td>\n",
       "      <td>1.0</td>\n",
       "      <td>17</td>\n",
       "      <td>17.0</td>\n",
       "      <td>2017</td>\n",
       "      <td>0.072158</td>\n",
       "      <td>B</td>\n",
       "      <td>B</td>\n",
       "      <td>2</td>\n",
       "      <td>629</td>\n",
       "      <td>1</td>\n",
       "      <td>NaN</td>\n",
       "      <td>0</td>\n",
       "      <td>0</td>\n",
       "      <td>A</td>\n",
       "    </tr>\n",
       "  </tbody>\n",
       "</table>\n",
       "</div>"
      ],
      "text/plain": [
       "      Id  DistrictId  Rooms     Square  LifeSquare  KitchenSquare  Floor  \\\n",
       "0    725          58    2.0  49.882643   33.432782            6.0      6   \n",
       "1  15856          74    2.0  69.263183         NaN            1.0      6   \n",
       "2   5480         190    1.0  13.597819   15.948246           12.0      2   \n",
       "3  15664          47    2.0  73.046609   51.940842            9.0     22   \n",
       "4  14275          27    1.0  47.527111   43.387569            1.0     17   \n",
       "\n",
       "   HouseFloor  HouseYear  Ecology_1 Ecology_2 Ecology_3  Social_1  Social_2  \\\n",
       "0        14.0       1972   0.310199         B         B        11      2748   \n",
       "1         1.0       1977   0.075779         B         B         6      1437   \n",
       "2         5.0       1909   0.000000         B         B        30      7538   \n",
       "3        22.0       2007   0.101872         B         B        23      4583   \n",
       "4        17.0       2017   0.072158         B         B         2       629   \n",
       "\n",
       "   Social_3  Healthcare_1  Helthcare_2  Shops_1 Shops_2  \n",
       "0         1           NaN            0        0       B  \n",
       "1         3           NaN            0        2       B  \n",
       "2        87        4702.0            5        5       B  \n",
       "3         3           NaN            3        3       B  \n",
       "4         1           NaN            0        0       A  "
      ]
     },
     "execution_count": 623,
     "metadata": {},
     "output_type": "execute_result"
    }
   ],
   "source": [
    "test.head()"
   ]
  },
  {
   "cell_type": "code",
   "execution_count": 624,
   "metadata": {},
   "outputs": [
    {
     "name": "stdout",
     "output_type": "stream",
     "text": [
      "<class 'pandas.core.frame.DataFrame'>\n",
      "RangeIndex: 5000 entries, 0 to 4999\n",
      "Data columns (total 19 columns):\n",
      "Id               5000 non-null int64\n",
      "DistrictId       5000 non-null int64\n",
      "Rooms            5000 non-null float64\n",
      "Square           5000 non-null float64\n",
      "LifeSquare       3959 non-null float64\n",
      "KitchenSquare    5000 non-null float64\n",
      "Floor            5000 non-null int64\n",
      "HouseFloor       5000 non-null float64\n",
      "HouseYear        5000 non-null int64\n",
      "Ecology_1        5000 non-null float64\n",
      "Ecology_2        5000 non-null object\n",
      "Ecology_3        5000 non-null object\n",
      "Social_1         5000 non-null int64\n",
      "Social_2         5000 non-null int64\n",
      "Social_3         5000 non-null int64\n",
      "Healthcare_1     2623 non-null float64\n",
      "Helthcare_2      5000 non-null int64\n",
      "Shops_1          5000 non-null int64\n",
      "Shops_2          5000 non-null object\n",
      "dtypes: float64(7), int64(9), object(3)\n",
      "memory usage: 742.3+ KB\n"
     ]
    }
   ],
   "source": [
    "test.info()"
   ]
  },
  {
   "cell_type": "code",
   "execution_count": 626,
   "metadata": {},
   "outputs": [],
   "source": [
    "test = test.loc[test['Rooms']<10,:]\n",
    "\n",
    "test['LifeSquare'] = test['LifeSquare'].fillna(test['Square'])\n",
    "\n",
    "test.loc[(test['Square']<15)&(test['LifeSquare']>15),'Square'] = test['LifeSquare']\n",
    "\n",
    "test.loc[(test['Square']<15)&(test['LifeSquare']<15)&(test['Rooms']<=1),'Square'] = test.loc[test['Rooms']==1,'Square'].mean()\n",
    "\n",
    "test.loc[(test['Square']<15)&(test['LifeSquare']<15)&(test['Rooms']==2),'Square'] = test.loc[test['Rooms']==2,'Square'].mean()\n",
    "\n",
    "test.loc[(test['Square']<15)&(test['LifeSquare']<15)&(test['Rooms']==3),'Square'] = test.loc[test['Rooms']==3,'Square'].mean()\n",
    "\n",
    "test.loc[(test['Square']<15)&(test['LifeSquare']<15)&(test['Rooms']==4),'Square'] = test.loc[test['Rooms']==4,'Square'].mean()\n",
    "\n",
    "test.loc[(test['Square']<15)&(test['LifeSquare']<15)&(test['Rooms']==5),'Square'] = test.loc[test['Rooms']==5,'Square'].mean()\n",
    "\n",
    "test.loc[(test['Square']>15)&(test['LifeSquare']<15),'LifeSquare'] = test['Square']\n",
    "\n",
    "test.loc[test['Square']<test['LifeSquare'],'LifeSquare'] = test['Square']\n",
    "\n",
    "test.loc[test['HouseYear']>2019,'HouseYear'] = test.loc[:,'HouseYear'].mean()\n",
    "\n",
    "test.loc[test['KitchenSquare']>test['Square'],'KitchenSquare'] = test.loc[test['Rooms']==1,'KitchenSquare'].mean()\n",
    "\n",
    "test.loc[test['Floor']>test['HouseFloor'],'HouseFloor'] = test['Floor']\n",
    "\n",
    "test = pd.get_dummies(test)\n"
   ]
  },
  {
   "cell_type": "code",
   "execution_count": 627,
   "metadata": {},
   "outputs": [],
   "source": [
    "pred_test = clf.predict(test.loc[:,fts])"
   ]
  },
  {
   "cell_type": "code",
   "execution_count": 628,
   "metadata": {},
   "outputs": [],
   "source": [
    "test['Price'] = pred_test"
   ]
  },
  {
   "cell_type": "code",
   "execution_count": 629,
   "metadata": {},
   "outputs": [],
   "source": [
    "test.loc[:,['Id','Price']].to_csv('output/VZinchenko_predictions.csv', index=None)"
   ]
  },
  {
   "cell_type": "code",
   "execution_count": null,
   "metadata": {},
   "outputs": [],
   "source": []
  }
 ],
 "metadata": {
  "kernelspec": {
   "display_name": "Python 3",
   "language": "python",
   "name": "python3"
  },
  "language_info": {
   "codemirror_mode": {
    "name": "ipython",
    "version": 3
   },
   "file_extension": ".py",
   "mimetype": "text/x-python",
   "name": "python",
   "nbconvert_exporter": "python",
   "pygments_lexer": "ipython3",
   "version": "3.7.1"
  }
 },
 "nbformat": 4,
 "nbformat_minor": 2
}
