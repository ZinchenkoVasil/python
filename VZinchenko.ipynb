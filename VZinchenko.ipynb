{
 "cells": [
  {
   "cell_type": "code",
   "execution_count": 62,
   "metadata": {},
   "outputs": [],
   "source": [
    "import numpy as np\n",
    "import pandas as pd\n",
    "from sklearn.linear_model import LinearRegression\n",
    "from sklearn.metrics import r2_score as r2\n",
    "from sklearn.metrics import mean_squared_error as mse"
   ]
  },
  {
   "cell_type": "code",
   "execution_count": 63,
   "metadata": {},
   "outputs": [],
   "source": [
    "from sklearn.model_selection import train_test_split"
   ]
  },
  {
   "cell_type": "code",
   "execution_count": 183,
   "metadata": {},
   "outputs": [],
   "source": [
    "data = pd.read_csv('input/train.csv')"
   ]
  },
  {
   "cell_type": "code",
   "execution_count": 184,
   "metadata": {},
   "outputs": [
    {
     "data": {
      "text/html": [
       "<div>\n",
       "<style scoped>\n",
       "    .dataframe tbody tr th:only-of-type {\n",
       "        vertical-align: middle;\n",
       "    }\n",
       "\n",
       "    .dataframe tbody tr th {\n",
       "        vertical-align: top;\n",
       "    }\n",
       "\n",
       "    .dataframe thead th {\n",
       "        text-align: right;\n",
       "    }\n",
       "</style>\n",
       "<table border=\"1\" class=\"dataframe\">\n",
       "  <thead>\n",
       "    <tr style=\"text-align: right;\">\n",
       "      <th></th>\n",
       "      <th>Id</th>\n",
       "      <th>DistrictId</th>\n",
       "      <th>Rooms</th>\n",
       "      <th>Square</th>\n",
       "      <th>LifeSquare</th>\n",
       "      <th>KitchenSquare</th>\n",
       "      <th>Floor</th>\n",
       "      <th>HouseFloor</th>\n",
       "      <th>HouseYear</th>\n",
       "      <th>Ecology_1</th>\n",
       "      <th>Ecology_2</th>\n",
       "      <th>Ecology_3</th>\n",
       "      <th>Social_1</th>\n",
       "      <th>Social_2</th>\n",
       "      <th>Social_3</th>\n",
       "      <th>Healthcare_1</th>\n",
       "      <th>Helthcare_2</th>\n",
       "      <th>Shops_1</th>\n",
       "      <th>Shops_2</th>\n",
       "      <th>Price</th>\n",
       "    </tr>\n",
       "  </thead>\n",
       "  <tbody>\n",
       "    <tr>\n",
       "      <th>0</th>\n",
       "      <td>14038</td>\n",
       "      <td>35</td>\n",
       "      <td>2.0</td>\n",
       "      <td>47.981561</td>\n",
       "      <td>29.442751</td>\n",
       "      <td>6.0</td>\n",
       "      <td>7</td>\n",
       "      <td>9.0</td>\n",
       "      <td>1969</td>\n",
       "      <td>0.089040</td>\n",
       "      <td>B</td>\n",
       "      <td>B</td>\n",
       "      <td>33</td>\n",
       "      <td>7976</td>\n",
       "      <td>5</td>\n",
       "      <td>NaN</td>\n",
       "      <td>0</td>\n",
       "      <td>11</td>\n",
       "      <td>B</td>\n",
       "      <td>184966.930730</td>\n",
       "    </tr>\n",
       "    <tr>\n",
       "      <th>1</th>\n",
       "      <td>15053</td>\n",
       "      <td>41</td>\n",
       "      <td>3.0</td>\n",
       "      <td>65.683640</td>\n",
       "      <td>40.049543</td>\n",
       "      <td>8.0</td>\n",
       "      <td>7</td>\n",
       "      <td>9.0</td>\n",
       "      <td>1978</td>\n",
       "      <td>0.000070</td>\n",
       "      <td>B</td>\n",
       "      <td>B</td>\n",
       "      <td>46</td>\n",
       "      <td>10309</td>\n",
       "      <td>1</td>\n",
       "      <td>240.0</td>\n",
       "      <td>1</td>\n",
       "      <td>16</td>\n",
       "      <td>B</td>\n",
       "      <td>300009.450063</td>\n",
       "    </tr>\n",
       "    <tr>\n",
       "      <th>2</th>\n",
       "      <td>4765</td>\n",
       "      <td>53</td>\n",
       "      <td>2.0</td>\n",
       "      <td>44.947953</td>\n",
       "      <td>29.197612</td>\n",
       "      <td>0.0</td>\n",
       "      <td>8</td>\n",
       "      <td>12.0</td>\n",
       "      <td>1968</td>\n",
       "      <td>0.049637</td>\n",
       "      <td>B</td>\n",
       "      <td>B</td>\n",
       "      <td>34</td>\n",
       "      <td>7759</td>\n",
       "      <td>0</td>\n",
       "      <td>229.0</td>\n",
       "      <td>1</td>\n",
       "      <td>3</td>\n",
       "      <td>B</td>\n",
       "      <td>220925.908524</td>\n",
       "    </tr>\n",
       "    <tr>\n",
       "      <th>3</th>\n",
       "      <td>5809</td>\n",
       "      <td>58</td>\n",
       "      <td>2.0</td>\n",
       "      <td>53.352981</td>\n",
       "      <td>52.731512</td>\n",
       "      <td>9.0</td>\n",
       "      <td>8</td>\n",
       "      <td>17.0</td>\n",
       "      <td>1977</td>\n",
       "      <td>0.437885</td>\n",
       "      <td>B</td>\n",
       "      <td>B</td>\n",
       "      <td>23</td>\n",
       "      <td>5735</td>\n",
       "      <td>3</td>\n",
       "      <td>1084.0</td>\n",
       "      <td>0</td>\n",
       "      <td>5</td>\n",
       "      <td>B</td>\n",
       "      <td>175616.227217</td>\n",
       "    </tr>\n",
       "    <tr>\n",
       "      <th>4</th>\n",
       "      <td>10783</td>\n",
       "      <td>99</td>\n",
       "      <td>1.0</td>\n",
       "      <td>39.649192</td>\n",
       "      <td>23.776169</td>\n",
       "      <td>7.0</td>\n",
       "      <td>11</td>\n",
       "      <td>12.0</td>\n",
       "      <td>1976</td>\n",
       "      <td>0.012339</td>\n",
       "      <td>B</td>\n",
       "      <td>B</td>\n",
       "      <td>35</td>\n",
       "      <td>5776</td>\n",
       "      <td>1</td>\n",
       "      <td>2078.0</td>\n",
       "      <td>2</td>\n",
       "      <td>4</td>\n",
       "      <td>B</td>\n",
       "      <td>150226.531644</td>\n",
       "    </tr>\n",
       "  </tbody>\n",
       "</table>\n",
       "</div>"
      ],
      "text/plain": [
       "      Id  DistrictId  Rooms     Square  LifeSquare  KitchenSquare  Floor  \\\n",
       "0  14038          35    2.0  47.981561   29.442751            6.0      7   \n",
       "1  15053          41    3.0  65.683640   40.049543            8.0      7   \n",
       "2   4765          53    2.0  44.947953   29.197612            0.0      8   \n",
       "3   5809          58    2.0  53.352981   52.731512            9.0      8   \n",
       "4  10783          99    1.0  39.649192   23.776169            7.0     11   \n",
       "\n",
       "   HouseFloor  HouseYear  Ecology_1 Ecology_2 Ecology_3  Social_1  Social_2  \\\n",
       "0         9.0       1969   0.089040         B         B        33      7976   \n",
       "1         9.0       1978   0.000070         B         B        46     10309   \n",
       "2        12.0       1968   0.049637         B         B        34      7759   \n",
       "3        17.0       1977   0.437885         B         B        23      5735   \n",
       "4        12.0       1976   0.012339         B         B        35      5776   \n",
       "\n",
       "   Social_3  Healthcare_1  Helthcare_2  Shops_1 Shops_2          Price  \n",
       "0         5           NaN            0       11       B  184966.930730  \n",
       "1         1         240.0            1       16       B  300009.450063  \n",
       "2         0         229.0            1        3       B  220925.908524  \n",
       "3         3        1084.0            0        5       B  175616.227217  \n",
       "4         1        2078.0            2        4       B  150226.531644  "
      ]
     },
     "execution_count": 184,
     "metadata": {},
     "output_type": "execute_result"
    }
   ],
   "source": [
    "data.head()"
   ]
  },
  {
   "cell_type": "code",
   "execution_count": 185,
   "metadata": {},
   "outputs": [
    {
     "data": {
      "text/plain": [
       "Index(['Id', 'DistrictId', 'Rooms', 'Square', 'LifeSquare', 'KitchenSquare',\n",
       "       'Floor', 'HouseFloor', 'HouseYear', 'Ecology_1', 'Social_1', 'Social_2',\n",
       "       'Social_3', 'Healthcare_1', 'Helthcare_2', 'Shops_1', 'Price',\n",
       "       'Ecology_2_A', 'Ecology_2_B', 'Ecology_3_A', 'Ecology_3_B', 'Shops_2_A',\n",
       "       'Shops_2_B'],\n",
       "      dtype='object')"
      ]
     },
     "execution_count": 185,
     "metadata": {},
     "output_type": "execute_result"
    }
   ],
   "source": [
    "data = data.loc[data['Rooms']<10,:]\n",
    "\n",
    "data = data.loc[data['Price'].between(30000,600000),:]\n",
    "\n",
    "data.loc[data['Rooms']==0,'LifeSquare'] = data['LifeSquare'].fillna(data['Square']*\n",
    "data.loc[data['Rooms']==0,'LifeSquare'].mean()/data.loc[data['Rooms']==0,'Square'].mean())\n",
    "\n",
    "data.loc[data['Rooms']==1,'LifeSquare'] = data['LifeSquare'].fillna(data['Square']*\n",
    "data.loc[data['Rooms']==1,'LifeSquare'].mean()/data.loc[data['Rooms']==1,'Square'].mean())\n",
    "\n",
    "data.loc[data['Rooms']==2,'LifeSquare'] = data['LifeSquare'].fillna(data['Square']*\n",
    "data.loc[data['Rooms']==2,'LifeSquare'].mean()/data.loc[data['Rooms']==2,'Square'].mean())\n",
    "\n",
    "data.loc[data['Rooms']==3,'LifeSquare'] = data['LifeSquare'].fillna(data['Square']*\n",
    "data.loc[data['Rooms']==3,'LifeSquare'].mean()/data.loc[data['Rooms']==3,'Square'].mean())\n",
    "\n",
    "data.loc[data['Rooms']==4,'LifeSquare'] = data['LifeSquare'].fillna(data['Square']*\n",
    "data.loc[data['Rooms']==4,'LifeSquare'].mean()/data.loc[data['Rooms']==4,'Square'].mean())\n",
    "\n",
    "data.loc[data['Rooms']==5,'LifeSquare'] = data['LifeSquare'].fillna(data['Square']*\n",
    "data.loc[data['Rooms']==5,'LifeSquare'].mean()/data.loc[data['Rooms']==5,'Square'].mean())\n",
    "\n",
    "data.loc[data['Rooms']>5,'LifeSquare'] = data['LifeSquare'].fillna(data['Square']*\n",
    "data.loc[data['Rooms']>5,'LifeSquare'].mean()/data.loc[data['Rooms']>5,'Square'].mean())\n",
    "\n",
    "\n",
    "data.loc[(data['Square']<15)&(data['LifeSquare']>15),'Square'] = data['LifeSquare']\n",
    "\n",
    "data.loc[(data['Square']<15)&(data['LifeSquare']<15)&(data['Rooms']<=1),'Square'] = data.loc[data['Rooms']==1,'Square'].mean()\n",
    "\n",
    "data.loc[(data['Square']<15)&(data['LifeSquare']<15)&(data['Rooms']==2),'Square'] = data.loc[data['Rooms']==2,'Square'].mean()\n",
    "\n",
    "data.loc[(data['Square']<15)&(data['LifeSquare']<15)&(data['Rooms']==3),'Square'] = data.loc[data['Rooms']==3,'Square'].mean()\n",
    "\n",
    "data.loc[(data['Square']<15)&(data['LifeSquare']<15)&(data['Rooms']==4),'Square'] = data.loc[data['Rooms']==4,'Square'].mean()\n",
    "\n",
    "data.loc[(data['Square']<15)&(data['LifeSquare']<15)&(data['Rooms']==5),'Square'] = data.loc[data['Rooms']==5,'Square'].mean()\n",
    "\n",
    "data.loc[(data['Square']>15)&(data['LifeSquare']<15),'LifeSquare'] = data['Square'] - data['KitchenSquare']\n",
    "\n",
    "data.loc[data['Square']<data['LifeSquare'],'LifeSquare'] = data['Square'] - data['KitchenSquare']\n",
    "\n",
    "data.loc[data['HouseYear']>2019,'HouseYear'] = data.loc[:,'HouseYear'].mean()\n",
    "\n",
    "data.loc[data['KitchenSquare']>data['Square'],'KitchenSquare'] = data.loc[:,'KitchenSquare'].mean()\n",
    "\n",
    "data.loc[data['Floor']>data['HouseFloor'],'HouseFloor'] = data['Floor']\n",
    "\n",
    "data = pd.get_dummies(data)\n",
    "\n",
    "data.columns"
   ]
  },
  {
   "cell_type": "code",
   "execution_count": 186,
   "metadata": {},
   "outputs": [
    {
     "name": "stdout",
     "output_type": "stream",
     "text": [
      "<class 'pandas.core.frame.DataFrame'>\n",
      "Int64Index: 9977 entries, 0 to 9999\n",
      "Data columns (total 23 columns):\n",
      "Id               9977 non-null int64\n",
      "DistrictId       9977 non-null int64\n",
      "Rooms            9977 non-null float64\n",
      "Square           9977 non-null float64\n",
      "LifeSquare       9977 non-null float64\n",
      "KitchenSquare    9977 non-null float64\n",
      "Floor            9977 non-null int64\n",
      "HouseFloor       9977 non-null float64\n",
      "HouseYear        9977 non-null float64\n",
      "Ecology_1        9977 non-null float64\n",
      "Social_1         9977 non-null int64\n",
      "Social_2         9977 non-null int64\n",
      "Social_3         9977 non-null int64\n",
      "Healthcare_1     5185 non-null float64\n",
      "Helthcare_2      9977 non-null int64\n",
      "Shops_1          9977 non-null int64\n",
      "Price            9977 non-null float64\n",
      "Ecology_2_A      9977 non-null uint8\n",
      "Ecology_2_B      9977 non-null uint8\n",
      "Ecology_3_A      9977 non-null uint8\n",
      "Ecology_3_B      9977 non-null uint8\n",
      "Shops_2_A        9977 non-null uint8\n",
      "Shops_2_B        9977 non-null uint8\n",
      "dtypes: float64(9), int64(8), uint8(6)\n",
      "memory usage: 1.7 MB\n"
     ]
    }
   ],
   "source": [
    "data.info()"
   ]
  },
  {
   "cell_type": "code",
   "execution_count": 187,
   "metadata": {},
   "outputs": [],
   "source": [
    "train, valid = train_test_split(data, test_size=0.3, random_state=42)"
   ]
  },
  {
   "cell_type": "code",
   "execution_count": 188,
   "metadata": {},
   "outputs": [],
   "source": [
    "fts = ['Square','Rooms','LifeSquare','Ecology_1','Social_3','Helthcare_2','Shops_1','Ecology_2_A','Ecology_2_B','Ecology_3_A','Ecology_3_B','Shops_2_A','Shops_2_B','HouseYear','Floor','HouseFloor','KitchenSquare']"
   ]
  },
  {
   "cell_type": "markdown",
   "metadata": {},
   "source": [
    "линейная регрессия"
   ]
  },
  {
   "cell_type": "code",
   "execution_count": 189,
   "metadata": {},
   "outputs": [],
   "source": [
    "lr = LinearRegression()"
   ]
  },
  {
   "cell_type": "code",
   "execution_count": 190,
   "metadata": {},
   "outputs": [
    {
     "data": {
      "text/plain": [
       "LinearRegression(copy_X=True, fit_intercept=True, n_jobs=None,\n",
       "         normalize=False)"
      ]
     },
     "execution_count": 190,
     "metadata": {},
     "output_type": "execute_result"
    }
   ],
   "source": [
    "lr.fit(train.loc[:,fts], train['Price'])"
   ]
  },
  {
   "cell_type": "code",
   "execution_count": 191,
   "metadata": {},
   "outputs": [],
   "source": [
    "pred = lr.predict(train.loc[:,fts])"
   ]
  },
  {
   "cell_type": "code",
   "execution_count": 192,
   "metadata": {},
   "outputs": [
    {
     "data": {
      "text/plain": [
       "array([269299.95076126, 298895.49398087, 257103.23752017, ...,\n",
       "       212084.31635671, 167035.31989336, 119151.92737687])"
      ]
     },
     "execution_count": 192,
     "metadata": {},
     "output_type": "execute_result"
    }
   ],
   "source": [
    "pred"
   ]
  },
  {
   "cell_type": "code",
   "execution_count": 193,
   "metadata": {},
   "outputs": [
    {
     "data": {
      "text/plain": [
       "0.4564996168962946"
      ]
     },
     "execution_count": 193,
     "metadata": {},
     "output_type": "execute_result"
    }
   ],
   "source": [
    "r2(train['Price'], pred)"
   ]
  },
  {
   "cell_type": "code",
   "execution_count": 194,
   "metadata": {},
   "outputs": [],
   "source": [
    "pred_valid = lr.predict(valid.loc[:,fts])"
   ]
  },
  {
   "cell_type": "code",
   "execution_count": 195,
   "metadata": {},
   "outputs": [
    {
     "data": {
      "text/plain": [
       "0.4625284137979174"
      ]
     },
     "execution_count": 195,
     "metadata": {},
     "output_type": "execute_result"
    }
   ],
   "source": [
    "r2(valid['Price'],pred_valid)"
   ]
  },
  {
   "cell_type": "markdown",
   "metadata": {},
   "source": [
    "RF"
   ]
  },
  {
   "cell_type": "code",
   "execution_count": 196,
   "metadata": {},
   "outputs": [],
   "source": [
    "from sklearn.ensemble import RandomForestRegressor as RF"
   ]
  },
  {
   "cell_type": "code",
   "execution_count": 197,
   "metadata": {},
   "outputs": [],
   "source": [
    "clf = RF(max_depth=18,n_estimators=40,max_features=3,random_state=100)"
   ]
  },
  {
   "cell_type": "code",
   "execution_count": 198,
   "metadata": {},
   "outputs": [],
   "source": [
    "parameters = [{'n_estimators': [60,65,70,75,80],'max_features': np.arange(3,5),'max_depth': np.arange(10,30)}]"
   ]
  },
  {
   "cell_type": "code",
   "execution_count": 199,
   "metadata": {},
   "outputs": [],
   "source": [
    "from sklearn.model_selection import GridSearchCV"
   ]
  },
  {
   "cell_type": "code",
   "execution_count": 200,
   "metadata": {},
   "outputs": [],
   "source": [
    "clf = GridSearchCV(estimator=RF(random_state=100),param_grid=parameters,scoring='r2',cv=3)"
   ]
  },
  {
   "cell_type": "code",
   "execution_count": 201,
   "metadata": {},
   "outputs": [
    {
     "data": {
      "text/plain": [
       "GridSearchCV(cv=3, error_score='raise-deprecating',\n",
       "       estimator=RandomForestRegressor(bootstrap=True, criterion='mse', max_depth=None,\n",
       "           max_features='auto', max_leaf_nodes=None,\n",
       "           min_impurity_decrease=0.0, min_impurity_split=None,\n",
       "           min_samples_leaf=1, min_samples_split=2,\n",
       "           min_weight_fraction_leaf=0.0, n_estimators='warn', n_jobs=None,\n",
       "           oob_score=False, random_state=100, verbose=0, warm_start=False),\n",
       "       fit_params=None, iid='warn', n_jobs=None,\n",
       "       param_grid=[{'n_estimators': [60, 65, 70, 75, 80], 'max_features': array([3, 4]), 'max_depth': array([10, 11, 12, 13, 14, 15, 16, 17, 18, 19, 20, 21, 22, 23, 24, 25, 26,\n",
       "       27, 28, 29])}],\n",
       "       pre_dispatch='2*n_jobs', refit=True, return_train_score='warn',\n",
       "       scoring='r2', verbose=0)"
      ]
     },
     "execution_count": 201,
     "metadata": {},
     "output_type": "execute_result"
    }
   ],
   "source": [
    "clf.fit(train.loc[:,fts],train['Price'])"
   ]
  },
  {
   "cell_type": "code",
   "execution_count": 203,
   "metadata": {},
   "outputs": [
    {
     "data": {
      "text/plain": [
       "{'max_depth': 18, 'max_features': 4, 'n_estimators': 80}"
      ]
     },
     "execution_count": 203,
     "metadata": {},
     "output_type": "execute_result"
    }
   ],
   "source": [
    "clf.best_params_"
   ]
  },
  {
   "cell_type": "code",
   "execution_count": 204,
   "metadata": {},
   "outputs": [
    {
     "name": "stdout",
     "output_type": "stream",
     "text": [
      "max_depth=18\n",
      "0.9533831435015886\n",
      "0.7366939063845697\n",
      "\n",
      "max_depth=17\n",
      "0.9494792534744319\n",
      "0.7272933443095331\n",
      "\n",
      "max_depth=16\n",
      "0.9427231773701628\n",
      "0.7272582897248963\n",
      "\n",
      "max_depth=15\n",
      "0.9345632711111109\n",
      "0.7306362058139506\n",
      "\n",
      "max_depth=14\n",
      "0.9226375477310097\n",
      "0.7311270027385139\n",
      "\n",
      "max_depth=13\n",
      "0.909224498859464\n",
      "0.7289461494087006\n",
      "\n",
      "max_depth=12\n",
      "0.8872221161441989\n",
      "0.7218165965393359\n",
      "\n",
      "max_depth=11\n",
      "0.8621334612393\n",
      "0.7173299551498833\n",
      "\n",
      "max_depth=10\n",
      "0.8319948957435164\n",
      "0.7111587043021139\n",
      "\n",
      "max_depth=9\n",
      "0.8000778336017025\n",
      "0.6980468742074568\n",
      "\n"
     ]
    }
   ],
   "source": [
    "for i in range(18,8,-1):\n",
    "    print(f'max_depth={i}')\n",
    "    clf = RF(max_depth=i, n_estimators=80, max_features=4, random_state=100)\n",
    "    clf.fit(train.loc[:,fts], train['Price'])\n",
    "    pred = clf.predict(train.loc[:,fts])\n",
    "    print(r2(train['Price'],pred))\n",
    "    pred_valid = clf.predict(valid.loc[:,fts])\n",
    "    print(r2(valid['Price'],pred_valid))\n",
    "    print()"
   ]
  },
  {
   "cell_type": "code",
   "execution_count": 205,
   "metadata": {},
   "outputs": [],
   "source": [
    "clf = RF(max_depth=18,n_estimators=80,max_features=4,random_state=100)"
   ]
  },
  {
   "cell_type": "code",
   "execution_count": 209,
   "metadata": {},
   "outputs": [
    {
     "data": {
      "text/plain": [
       "RandomForestRegressor(bootstrap=True, criterion='mse', max_depth=18,\n",
       "           max_features=4, max_leaf_nodes=None, min_impurity_decrease=0.0,\n",
       "           min_impurity_split=None, min_samples_leaf=1,\n",
       "           min_samples_split=2, min_weight_fraction_leaf=0.0,\n",
       "           n_estimators=80, n_jobs=None, oob_score=False, random_state=100,\n",
       "           verbose=0, warm_start=False)"
      ]
     },
     "execution_count": 209,
     "metadata": {},
     "output_type": "execute_result"
    }
   ],
   "source": [
    "clf.fit(train.loc[:,fts],train['Price'])"
   ]
  },
  {
   "cell_type": "code",
   "execution_count": 210,
   "metadata": {},
   "outputs": [],
   "source": [
    "pred = clf.predict(train.loc[:,fts])"
   ]
  },
  {
   "cell_type": "code",
   "execution_count": 211,
   "metadata": {},
   "outputs": [
    {
     "data": {
      "text/plain": [
       "0.9533831435015886"
      ]
     },
     "execution_count": 211,
     "metadata": {},
     "output_type": "execute_result"
    }
   ],
   "source": [
    "r2(train['Price'], pred)"
   ]
  },
  {
   "cell_type": "code",
   "execution_count": 212,
   "metadata": {},
   "outputs": [],
   "source": [
    "pred_valid = clf.predict(valid.loc[:,fts])"
   ]
  },
  {
   "cell_type": "code",
   "execution_count": 213,
   "metadata": {},
   "outputs": [
    {
     "data": {
      "text/plain": [
       "0.7366939063845697"
      ]
     },
     "execution_count": 213,
     "metadata": {},
     "output_type": "execute_result"
    }
   ],
   "source": [
    "r2(valid['Price'],pred_valid)"
   ]
  },
  {
   "cell_type": "code",
   "execution_count": 214,
   "metadata": {},
   "outputs": [],
   "source": [
    "from sklearn.metrics import mean_squared_error as MSE"
   ]
  },
  {
   "cell_type": "code",
   "execution_count": 215,
   "metadata": {},
   "outputs": [
    {
     "data": {
      "text/plain": [
       "2087149621.793595"
      ]
     },
     "execution_count": 215,
     "metadata": {},
     "output_type": "execute_result"
    }
   ],
   "source": [
    "MSE(valid['Price'],pred_valid)"
   ]
  },
  {
   "cell_type": "markdown",
   "metadata": {},
   "source": [
    "дерево решений"
   ]
  },
  {
   "cell_type": "code",
   "execution_count": 216,
   "metadata": {},
   "outputs": [],
   "source": [
    "from sklearn.tree import DecisionTreeRegressor"
   ]
  },
  {
   "cell_type": "code",
   "execution_count": 220,
   "metadata": {},
   "outputs": [],
   "source": [
    "regressor = DecisionTreeRegressor(max_depth=18, random_state=100)"
   ]
  },
  {
   "cell_type": "code",
   "execution_count": 221,
   "metadata": {},
   "outputs": [
    {
     "data": {
      "text/plain": [
       "DecisionTreeRegressor(criterion='mse', max_depth=18, max_features=None,\n",
       "           max_leaf_nodes=None, min_impurity_decrease=0.0,\n",
       "           min_impurity_split=None, min_samples_leaf=1,\n",
       "           min_samples_split=2, min_weight_fraction_leaf=0.0,\n",
       "           presort=False, random_state=100, splitter='best')"
      ]
     },
     "execution_count": 221,
     "metadata": {},
     "output_type": "execute_result"
    }
   ],
   "source": [
    "regressor.fit(train.loc[:,fts],train['Price'])"
   ]
  },
  {
   "cell_type": "code",
   "execution_count": 222,
   "metadata": {},
   "outputs": [],
   "source": [
    "pred = regressor.predict(train.loc[:,fts])"
   ]
  },
  {
   "cell_type": "code",
   "execution_count": 223,
   "metadata": {},
   "outputs": [
    {
     "data": {
      "text/plain": [
       "0.9814140492200999"
      ]
     },
     "execution_count": 223,
     "metadata": {},
     "output_type": "execute_result"
    }
   ],
   "source": [
    "r2(train['Price'], pred)"
   ]
  },
  {
   "cell_type": "code",
   "execution_count": 224,
   "metadata": {},
   "outputs": [],
   "source": [
    "pred_valid = regressor.predict(valid.loc[:,fts])"
   ]
  },
  {
   "cell_type": "code",
   "execution_count": 225,
   "metadata": {},
   "outputs": [
    {
     "data": {
      "text/plain": [
       "0.4761764227488673"
      ]
     },
     "execution_count": 225,
     "metadata": {},
     "output_type": "execute_result"
    }
   ],
   "source": [
    "r2(valid['Price'],pred_valid)"
   ]
  },
  {
   "cell_type": "markdown",
   "metadata": {},
   "source": [
    "KNN"
   ]
  },
  {
   "cell_type": "code",
   "execution_count": 226,
   "metadata": {},
   "outputs": [],
   "source": [
    "from sklearn.preprocessing import StandardScaler\n",
    "from sklearn.neighbors import KNeighborsRegressor as KNN"
   ]
  },
  {
   "cell_type": "markdown",
   "metadata": {},
   "source": [
    "масштабирование"
   ]
  },
  {
   "cell_type": "code",
   "execution_count": 227,
   "metadata": {},
   "outputs": [
    {
     "name": "stderr",
     "output_type": "stream",
     "text": [
      "C:\\ProgramData\\Anaconda3\\lib\\site-packages\\sklearn\\preprocessing\\data.py:625: DataConversionWarning: Data with input dtype uint8, int64, float64 were all converted to float64 by StandardScaler.\n",
      "  return self.partial_fit(X, y)\n",
      "C:\\ProgramData\\Anaconda3\\lib\\site-packages\\sklearn\\base.py:462: DataConversionWarning: Data with input dtype uint8, int64, float64 were all converted to float64 by StandardScaler.\n",
      "  return self.fit(X, **fit_params).transform(X)\n",
      "C:\\ProgramData\\Anaconda3\\lib\\site-packages\\ipykernel_launcher.py:3: DataConversionWarning: Data with input dtype uint8, int64, float64 were all converted to float64 by StandardScaler.\n",
      "  This is separate from the ipykernel package so we can avoid doing imports until\n"
     ]
    }
   ],
   "source": [
    "scaler = StandardScaler()\n",
    "train_scaled = scaler.fit_transform(train.loc[:,fts])\n",
    "valid_scaled = scaler.transform(valid.loc[:,fts])"
   ]
  },
  {
   "cell_type": "code",
   "execution_count": 228,
   "metadata": {},
   "outputs": [
    {
     "name": "stdout",
     "output_type": "stream",
     "text": [
      "n_neighbors=2\n",
      "1.0\n",
      "0.5859229528386558\n",
      "\n",
      "n_neighbors=4\n",
      "1.0\n",
      "0.6304717841800647\n",
      "\n",
      "n_neighbors=6\n",
      "1.0\n",
      "0.6319441819282237\n",
      "\n",
      "n_neighbors=8\n",
      "1.0\n",
      "0.636639479722597\n",
      "\n",
      "n_neighbors=10\n",
      "1.0\n",
      "0.6354766699740704\n",
      "\n",
      "n_neighbors=12\n",
      "1.0\n",
      "0.6340002856232789\n",
      "\n",
      "n_neighbors=14\n",
      "1.0\n",
      "0.6319893424756184\n",
      "\n",
      "n_neighbors=16\n",
      "1.0\n",
      "0.6294957736385947\n",
      "\n",
      "n_neighbors=18\n",
      "1.0\n",
      "0.6257611383836481\n",
      "\n",
      "n_neighbors=20\n",
      "1.0\n",
      "0.6230288875048502\n",
      "\n"
     ]
    }
   ],
   "source": [
    "for i in range(2,22,2):\n",
    "    print(f'n_neighbors={i}')\n",
    "    knn = KNN(n_neighbors=i,weights='distance')\n",
    "    knn.fit(train_scaled, train['Price'])\n",
    "    pred = knn.predict(train_scaled)\n",
    "    print(r2(train['Price'],pred))\n",
    "    pred_valid = knn.predict(valid_scaled)\n",
    "    print(r2(valid['Price'],pred_valid))\n",
    "    print()"
   ]
  },
  {
   "cell_type": "markdown",
   "metadata": {},
   "source": [
    "Вывод: \n",
    "    самая лучшая модель Random Forest (случайный лес). \n",
    "    Она дает наилучшие предсказания и ее будем использовать для теста!"
   ]
  },
  {
   "cell_type": "code",
   "execution_count": 229,
   "metadata": {},
   "outputs": [],
   "source": [
    "data = pd.read_csv('input/test.csv')"
   ]
  },
  {
   "cell_type": "code",
   "execution_count": 231,
   "metadata": {},
   "outputs": [
    {
     "data": {
      "text/plain": [
       "Index(['Id', 'DistrictId', 'Rooms', 'Square', 'LifeSquare', 'KitchenSquare',\n",
       "       'Floor', 'HouseFloor', 'HouseYear', 'Ecology_1', 'Social_1', 'Social_2',\n",
       "       'Social_3', 'Healthcare_1', 'Helthcare_2', 'Shops_1', 'Ecology_2_A',\n",
       "       'Ecology_2_B', 'Ecology_3_A', 'Ecology_3_B', 'Shops_2_A', 'Shops_2_B'],\n",
       "      dtype='object')"
      ]
     },
     "execution_count": 231,
     "metadata": {},
     "output_type": "execute_result"
    }
   ],
   "source": [
    "data.loc[data['Rooms']>9,'Rooms'] = 2\n",
    "\n",
    "data.loc[data['Rooms']==0,'LifeSquare'] = data['LifeSquare'].fillna(data['Square']*\n",
    "data.loc[data['Rooms']==0,'LifeSquare'].mean()/data.loc[data['Rooms']==0,'Square'].mean())\n",
    "\n",
    "data.loc[data['Rooms']==1,'LifeSquare'] = data['LifeSquare'].fillna(data['Square']*\n",
    "data.loc[data['Rooms']==1,'LifeSquare'].mean()/data.loc[data['Rooms']==1,'Square'].mean())\n",
    "\n",
    "data.loc[data['Rooms']==2,'LifeSquare'] = data['LifeSquare'].fillna(data['Square']*\n",
    "data.loc[data['Rooms']==2,'LifeSquare'].mean()/data.loc[data['Rooms']==2,'Square'].mean())\n",
    "\n",
    "data.loc[data['Rooms']==3,'LifeSquare'] = data['LifeSquare'].fillna(data['Square']*\n",
    "data.loc[data['Rooms']==3,'LifeSquare'].mean()/data.loc[data['Rooms']==3,'Square'].mean())\n",
    "\n",
    "data.loc[data['Rooms']==4,'LifeSquare'] = data['LifeSquare'].fillna(data['Square']*\n",
    "data.loc[data['Rooms']==4,'LifeSquare'].mean()/data.loc[data['Rooms']==4,'Square'].mean())\n",
    "\n",
    "data.loc[data['Rooms']==5,'LifeSquare'] = data['LifeSquare'].fillna(data['Square']*\n",
    "data.loc[data['Rooms']==5,'LifeSquare'].mean()/data.loc[data['Rooms']==5,'Square'].mean())\n",
    "\n",
    "data.loc[data['Rooms']>5,'LifeSquare'] = data['LifeSquare'].fillna(data['Square']*\n",
    "data.loc[data['Rooms']>5,'LifeSquare'].mean()/data.loc[data['Rooms']>5,'Square'].mean())\n",
    "\n",
    "\n",
    "data.loc[(data['Square']<15)&(data['LifeSquare']>15),'Square'] = data['LifeSquare']\n",
    "\n",
    "data.loc[(data['Square']<15)&(data['LifeSquare']<15)&(data['Rooms']<=1),'Square'] = data.loc[data['Rooms']==1,'Square'].mean()\n",
    "\n",
    "data.loc[(data['Square']<15)&(data['LifeSquare']<15)&(data['Rooms']==2),'Square'] = data.loc[data['Rooms']==2,'Square'].mean()\n",
    "\n",
    "data.loc[(data['Square']<15)&(data['LifeSquare']<15)&(data['Rooms']==3),'Square'] = data.loc[data['Rooms']==3,'Square'].mean()\n",
    "\n",
    "data.loc[(data['Square']<15)&(data['LifeSquare']<15)&(data['Rooms']==4),'Square'] = data.loc[data['Rooms']==4,'Square'].mean()\n",
    "\n",
    "data.loc[(data['Square']<15)&(data['LifeSquare']<15)&(data['Rooms']==5),'Square'] = data.loc[data['Rooms']==5,'Square'].mean()\n",
    "\n",
    "data.loc[(data['Square']>15)&(data['LifeSquare']<15),'LifeSquare'] = data['Square'] - data['KitchenSquare']\n",
    "\n",
    "data.loc[data['Square']<data['LifeSquare'],'LifeSquare'] = data['Square'] - data['KitchenSquare']\n",
    "\n",
    "data.loc[data['HouseYear']>2019,'HouseYear'] = data.loc[:,'HouseYear'].mean()\n",
    "\n",
    "data.loc[data['KitchenSquare']>data['Square'],'KitchenSquare'] = data.loc[:,'KitchenSquare'].mean()\n",
    "\n",
    "data.loc[data['Floor']>data['HouseFloor'],'HouseFloor'] = data['Floor']\n",
    "\n",
    "data = pd.get_dummies(data)\n",
    "\n",
    "data.columns"
   ]
  },
  {
   "cell_type": "code",
   "execution_count": 232,
   "metadata": {
    "scrolled": true
   },
   "outputs": [
    {
     "name": "stdout",
     "output_type": "stream",
     "text": [
      "<class 'pandas.core.frame.DataFrame'>\n",
      "RangeIndex: 5000 entries, 0 to 4999\n",
      "Data columns (total 22 columns):\n",
      "Id               5000 non-null int64\n",
      "DistrictId       5000 non-null int64\n",
      "Rooms            5000 non-null float64\n",
      "Square           5000 non-null float64\n",
      "LifeSquare       5000 non-null float64\n",
      "KitchenSquare    5000 non-null float64\n",
      "Floor            5000 non-null int64\n",
      "HouseFloor       5000 non-null float64\n",
      "HouseYear        5000 non-null float64\n",
      "Ecology_1        5000 non-null float64\n",
      "Social_1         5000 non-null int64\n",
      "Social_2         5000 non-null int64\n",
      "Social_3         5000 non-null int64\n",
      "Healthcare_1     2623 non-null float64\n",
      "Helthcare_2      5000 non-null int64\n",
      "Shops_1          5000 non-null int64\n",
      "Ecology_2_A      5000 non-null uint8\n",
      "Ecology_2_B      5000 non-null uint8\n",
      "Ecology_3_A      5000 non-null uint8\n",
      "Ecology_3_B      5000 non-null uint8\n",
      "Shops_2_A        5000 non-null uint8\n",
      "Shops_2_B        5000 non-null uint8\n",
      "dtypes: float64(8), int64(8), uint8(6)\n",
      "memory usage: 654.4 KB\n"
     ]
    }
   ],
   "source": [
    "data.info()"
   ]
  },
  {
   "cell_type": "code",
   "execution_count": 233,
   "metadata": {},
   "outputs": [],
   "source": [
    "pred_test = clf.predict(data.loc[:,fts])"
   ]
  },
  {
   "cell_type": "code",
   "execution_count": 234,
   "metadata": {},
   "outputs": [],
   "source": [
    "data['Price'] = pred_test"
   ]
  },
  {
   "cell_type": "code",
   "execution_count": 235,
   "metadata": {},
   "outputs": [],
   "source": [
    "data.loc[:,['Id','Price']].to_csv('output/VZinchenko_predictions.csv',index=None)"
   ]
  },
  {
   "cell_type": "code",
   "execution_count": null,
   "metadata": {},
   "outputs": [],
   "source": []
  }
 ],
 "metadata": {
  "kernelspec": {
   "display_name": "Python 3",
   "language": "python",
   "name": "python3"
  },
  "language_info": {
   "codemirror_mode": {
    "name": "ipython",
    "version": 3
   },
   "file_extension": ".py",
   "mimetype": "text/x-python",
   "name": "python",
   "nbconvert_exporter": "python",
   "pygments_lexer": "ipython3",
   "version": "3.7.1"
  }
 },
 "nbformat": 4,
 "nbformat_minor": 2
}
