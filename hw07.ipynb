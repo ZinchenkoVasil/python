{
 "cells": [
  {
   "cell_type": "code",
   "execution_count": 3,
   "metadata": {},
   "outputs": [],
   "source": [
    "import numpy as np\n",
    "import pandas as pd"
   ]
  },
  {
   "cell_type": "markdown",
   "metadata": {},
   "source": [
    "Задача1"
   ]
  },
  {
   "cell_type": "code",
   "execution_count": 4,
   "metadata": {},
   "outputs": [],
   "source": [
    "# количество наблюдений\n",
    "n = 10\n",
    "\n",
    "x = np.array([35, 45, 190, 200, 40, 70, 54, 150, 120, 110], dtype=np.float64)\n",
    "y = np.array([401, 574, 874, 919, 459, 739, 653, 902, 746, 832], dtype=np.float64)"
   ]
  },
  {
   "cell_type": "code",
   "execution_count": 5,
   "metadata": {},
   "outputs": [
    {
     "data": {
      "text/plain": [
       "2.620538882402765"
      ]
     },
     "execution_count": 5,
     "metadata": {},
     "output_type": "execute_result"
    }
   ],
   "source": [
    "b = (np.mean(x * y) - np.mean(x) * np.mean(y)) / (np.mean(x**2) - np.mean(x) ** 2)\n",
    "b\n"
   ]
  },
  {
   "cell_type": "code",
   "execution_count": 6,
   "metadata": {},
   "outputs": [
    {
     "data": {
      "text/plain": [
       "444.1773573243596"
      ]
     },
     "execution_count": 6,
     "metadata": {},
     "output_type": "execute_result"
    }
   ],
   "source": [
    "a = np.mean(y) - b * np.mean(x)\n",
    "a"
   ]
  },
  {
   "cell_type": "code",
   "execution_count": 7,
   "metadata": {},
   "outputs": [
    {
     "data": {
      "text/plain": [
       "0.8874900920739162"
      ]
     },
     "execution_count": 7,
     "metadata": {},
     "output_type": "execute_result"
    }
   ],
   "source": [
    "r = b * np.std(x) / np.std(y)\n",
    "r"
   ]
  },
  {
   "cell_type": "code",
   "execution_count": 8,
   "metadata": {},
   "outputs": [
    {
     "data": {
      "text/plain": [
       "0.7876386635293682"
      ]
     },
     "execution_count": 8,
     "metadata": {},
     "output_type": "execute_result"
    }
   ],
   "source": [
    "R2 = r**2\n",
    "R2"
   ]
  },
  {
   "cell_type": "code",
   "execution_count": 9,
   "metadata": {},
   "outputs": [
    {
     "data": {
      "text/plain": [
       "array([535.89621821, 562.10160703, 942.07974498, 968.2851338 ,\n",
       "       548.99891262, 627.61507909, 585.68645697, 837.25818968,\n",
       "       758.64202321, 732.43663439])"
      ]
     },
     "execution_count": 9,
     "metadata": {},
     "output_type": "execute_result"
    }
   ],
   "source": [
    "y_pred = a + b * x\n",
    "y_pred\n"
   ]
  },
  {
   "cell_type": "code",
   "execution_count": 10,
   "metadata": {},
   "outputs": [
    {
     "data": {
      "text/plain": [
       "11.46925184356171"
      ]
     },
     "execution_count": 10,
     "metadata": {},
     "output_type": "execute_result"
    }
   ],
   "source": [
    "A_mean = 100 * np.mean(np.abs((y - y_pred) / y))\n",
    "A_mean"
   ]
  },
  {
   "cell_type": "code",
   "execution_count": 11,
   "metadata": {},
   "outputs": [
    {
     "data": {
      "text/plain": [
       "6470.414201176658"
      ]
     },
     "execution_count": 11,
     "metadata": {},
     "output_type": "execute_result"
    }
   ],
   "source": [
    "mse_ = np.sum((y_pred - y)**2)/n\n",
    "mse_"
   ]
  },
  {
   "cell_type": "code",
   "execution_count": 65,
   "metadata": {},
   "outputs": [
    {
     "data": {
      "image/png": "[encoded data removed]",
      "text/plain": [
       "<Figure size 432x288 with 1 Axes>"
      ]
     },
     "metadata": {
      "needs_background": "light"
     },
     "output_type": "display_data"
    }
   ],
   "source": [
    "import matplotlib.pyplot as plt\n",
    "\n",
    "plt.scatter(x, y)\n",
    "plt.plot(x, y_pred)\n",
    "plt.xlabel('Зарплата')\n",
    "plt.ylabel('Скоринговый балл')\n",
    "plt.show()"
   ]
  },
  {
   "cell_type": "markdown",
   "metadata": {},
   "source": [
    "Задача2"
   ]
  },
  {
   "cell_type": "code",
   "execution_count": 84,
   "metadata": {},
   "outputs": [],
   "source": [
    "def mse_(W1, x, y, W0=0 ,n=10):\n",
    "    return np.sum((W1*x + W0 - y)**2)/n"
   ]
  },
  {
   "cell_type": "code",
   "execution_count": 80,
   "metadata": {},
   "outputs": [],
   "source": [
    "alpha = 1e-6"
   ]
  },
  {
   "cell_type": "code",
   "execution_count": 94,
   "metadata": {},
   "outputs": [
    {
     "name": "stdout",
     "output_type": "stream",
     "text": [
      "Iteration: 0, w1=0.25952808000000005, mse=493237.7212546963\n",
      "Iteration: 1000, w1=159.78760808000104, mse=326348799.7218318\n",
      "Iteration: 2000, w1=319.31568807999093, mse=1353411488.0877092\n",
      "Iteration: 3000, w1=478.8437680799637, mse=3081681302.8186617\n",
      "Iteration: 4000, w1=638.3718480799365, mse=5511158243.914764\n",
      "Iteration: 5000, w1=797.8999280799093, mse=8641842311.376013\n",
      "Iteration: 6000, w1=957.428008079882, mse=12473733505.202412\n",
      "Iteration: 7000, w1=1116.956088079855, mse=17006831825.39396\n",
      "Iteration: 8000, w1=1276.4841680798277, mse=22241137271.950653\n",
      "Iteration: 9000, w1=1436.0122480798004, mse=28176649844.872486\n",
      "минимум mse=56547.0447792607, оптимальное w1=5.843010880000002\n"
     ]
    }
   ],
   "source": [
    "W1 = 0.1\n",
    "f_p = (2/n) * np.sum((W1*x - y)*x)\n",
    "min_mse = float('inf') \n",
    "min_W1 = 0\n",
    "for i in range(10000):\n",
    "    W1 -= alpha * f_p\n",
    "    mse = mse_(W1, x, y)\n",
    "    if (mse < min_mse):\n",
    "        min_mse = mse\n",
    "        min_W1 = W1\n",
    "    if i % 1000 == 0:\n",
    "        print(f'Iteration: {i}, w1={W1}, mse={mse}')\n",
    "print(f'минимум mse={min_mse}, оптимальное w1={min_W1}')\n",
    "        "
   ]
  },
  {
   "cell_type": "code",
   "execution_count": 82,
   "metadata": {},
   "outputs": [
    {
     "data": {
      "image/png": "[encoded data removed]",
      "text/plain": [
       "<Figure size 432x288 with 1 Axes>"
      ]
     },
     "metadata": {
      "needs_background": "light"
     },
     "output_type": "display_data"
    }
   ],
   "source": [
    "plt.scatter(x, y)\n",
    "plt.plot(x, min_W1*x)\n",
    "plt.xlabel('Зарплата')\n",
    "plt.ylabel('Скоринговый балл')\n",
    "plt.show()"
   ]
  },
  {
   "cell_type": "markdown",
   "metadata": {},
   "source": [
    "Задача3"
   ]
  },
  {
   "cell_type": "markdown",
   "metadata": {},
   "source": [
    "Если оценка дисперсии (или среднеквадратичного отклонения) получена из большой выборки n > 100, то используется таблица Лапласа. Если количество наблюдений n - среднее (30 < n < 100), то отличия незначительны. \n",
    "Если сигма (оценка среднеквадратичного отклонения) вычисляется на основании небольшой выборки n <= 30, то погрешность значительна и используется таблица Стьюдента."
   ]
  },
  {
   "cell_type": "markdown",
   "metadata": {},
   "source": [
    "Задача4"
   ]
  },
  {
   "cell_type": "code",
   "execution_count": 90,
   "metadata": {},
   "outputs": [],
   "source": [
    "step_W1 = 1e-6\n",
    "step_W0 = 1e-5"
   ]
  },
  {
   "cell_type": "code",
   "execution_count": 95,
   "metadata": {},
   "outputs": [
    {
     "name": "stdout",
     "output_type": "stream",
     "text": [
      "-159528.08000000002\n",
      "минимум mse=6474.387619576805, оптимальные w1=2.65244928 и w0=440.2975008000022\n"
     ]
    }
   ],
   "source": [
    "W1 = 0.1\n",
    "W0 = 0\n",
    "f_p = (2/n) * np.sum((W1*x + W0 - y)*x)\n",
    "print(f_p)\n",
    "min_mse = float('inf') \n",
    "min_W1 = 0\n",
    "for i in range(1000):\n",
    "    W0 = 0\n",
    "    W1 -= step_W1 * f_p\n",
    "    for j in range(1000):\n",
    "        mse = mse_(W1, x, y, W0)\n",
    "        if (mse < min_mse):\n",
    "            min_mse = mse\n",
    "            min_W1 = W1\n",
    "            min_W0 = W0\n",
    "        W0 -= step_W0 * f_p    \n",
    "print(f'минимум mse={min_mse}, оптимальные w1={min_W1} и w0={min_W0}')\n",
    "        "
   ]
  },
  {
   "cell_type": "code",
   "execution_count": 96,
   "metadata": {},
   "outputs": [
    {
     "data": {
      "image/png": "[encoded data removed]",
      "text/plain": [
       "<Figure size 432x288 with 1 Axes>"
      ]
     },
     "metadata": {
      "needs_background": "light"
     },
     "output_type": "display_data"
    }
   ],
   "source": [
    "plt.scatter(x, y)\n",
    "plt.plot(x, min_W1*x + min_W0)\n",
    "plt.xlabel('Зарплата')\n",
    "plt.ylabel('Скоринговый балл')\n",
    "plt.show()"
   ]
  },
  {
   "cell_type": "code",
   "execution_count": null,
   "metadata": {},
   "outputs": [],
   "source": []
  }
 ],
 "metadata": {
  "kernelspec": {
   "display_name": "Python 3",
   "language": "python",
   "name": "python3"
  },
  "language_info": {
   "codemirror_mode": {
    "name": "ipython",
    "version": 3
   },
   "file_extension": ".py",
   "mimetype": "text/x-python",
   "name": "python",
   "nbconvert_exporter": "python",
   "pygments_lexer": "ipython3",
   "version": "3.7.1"
  }
 },
 "nbformat": 4,
 "nbformat_minor": 2
}
